{
 "cells": [
  {
   "cell_type": "code",
   "execution_count": 1,
   "id": "16f947db",
   "metadata": {},
   "outputs": [],
   "source": [
    "import pandas as pd\n",
    "import numpy as np\n",
    "\n",
    "import stellargraph as sg\n",
    "from stellargraph.mapper import PaddedGraphGenerator\n",
    "from stellargraph.layer import GCNSupervisedGraphClassification\n",
    "from stellargraph.layer import DeepGraphCNN\n",
    "from stellargraph import StellarGraph\n",
    "\n",
    "from stellargraph import datasets\n",
    "\n",
    "from sklearn import model_selection\n",
    "from IPython.display import display, HTML\n",
    "\n",
    "from tensorflow.keras import Model\n",
    "from tensorflow.keras.optimizers import Adam\n",
    "from tensorflow.keras.layers import Dense, Conv1D, MaxPool1D, Dropout, Flatten\n",
    "from tensorflow.keras.losses import binary_crossentropy\n",
    "from tensorflow.keras.callbacks import EarlyStopping\n",
    "import tensorflow as tf\n",
    "\n",
    "import matplotlib.pyplot as plt\n",
    "\n",
    "import os\n",
    "import createGraph"
   ]
  },
  {
   "cell_type": "code",
   "execution_count": 2,
   "id": "80755218",
   "metadata": {},
   "outputs": [],
   "source": [
    "#Creating Graph from folders\n",
    "\n",
    "graphs = []\n",
    "labels = []\n",
    "\n",
    "for i in range(1,5):\n",
    "    path = os.getcwd() + '/graphsmallds/' + str(i) + '/'\n",
    "    G,label = createGraph.createGraph(path)\n",
    "    graphs.append(G)\n",
    "    labels.append(label)\n",
    "    \n",
    "# Convert the list to a Categorical object\n",
    "cat_label = pd.Categorical(labels, categories=[0,1])\n",
    "\n",
    "# Create a Pandas Series object from the Categorical object\n",
    "graph_labels = pd.Series(cat_label)"
   ]
  },
  {
   "cell_type": "code",
   "execution_count": 58,
   "id": "0018b2c5",
   "metadata": {},
   "outputs": [
    {
     "name": "stdout",
     "output_type": "stream",
     "text": [
      "4\n",
      "[0, 0, 0, 0]\n",
      "0    0\n",
      "1    0\n",
      "2    0\n",
      "3    0\n",
      "dtype: category\n",
      "Categories (2, int64): [0, 1]\n"
     ]
    }
   ],
   "source": [
    "print(len(graphs))\n",
    "print(labels)\n",
    "print(graph_labels)"
   ]
  },
  {
   "cell_type": "markdown",
   "id": "4c2c74b5",
   "metadata": {},
   "source": [
    "# GCN GCN GCN"
   ]
  },
  {
   "cell_type": "code",
   "execution_count": 4,
   "id": "c28134b5",
   "metadata": {},
   "outputs": [],
   "source": [
    "generator = PaddedGraphGenerator(graphs=graphs)"
   ]
  },
  {
   "cell_type": "code",
   "execution_count": 5,
   "id": "c5263066",
   "metadata": {},
   "outputs": [],
   "source": [
    "def create_graph_classification_model(generator):\n",
    "    gc_model = GCNSupervisedGraphClassification(\n",
    "        layer_sizes=[64, 64],\n",
    "        activations=[\"relu\", \"relu\"],\n",
    "        generator=generator,\n",
    "        dropout=0.5,\n",
    "    )\n",
    "    x_inp, x_out = gc_model.in_out_tensors()\n",
    "    predictions = Dense(units=32, activation=\"relu\")(x_out)\n",
    "    predictions = Dense(units=16, activation=\"relu\")(predictions)\n",
    "    predictions = Dense(units=1, activation=\"sigmoid\")(predictions)\n",
    "\n",
    "    # Let's create the Keras model and prepare it for training\n",
    "    model = Model(inputs=x_inp, outputs=predictions)\n",
    "    model.compile(optimizer=Adam(0.005), loss=binary_crossentropy, metrics=[\"acc\"])\n",
    "\n",
    "    return model\n"
   ]
  },
  {
   "cell_type": "code",
   "execution_count": 6,
   "id": "b5697450",
   "metadata": {},
   "outputs": [],
   "source": [
    "epochs = 200  # maximum number of training epochs\n",
    "folds = 2  # the number of folds for k-fold cross validation\n",
    "n_repeats = 5  # the number of repeats for repeated k-fold cross validation"
   ]
  },
  {
   "cell_type": "code",
   "execution_count": 7,
   "id": "cd891178",
   "metadata": {},
   "outputs": [],
   "source": [
    "es = EarlyStopping(\n",
    "    monitor=\"val_loss\", min_delta=0, patience=25, restore_best_weights=True\n",
    ")"
   ]
  },
  {
   "cell_type": "code",
   "execution_count": 8,
   "id": "92f4d7c0",
   "metadata": {},
   "outputs": [],
   "source": [
    "def train_fold(model, train_gen, test_gen, es, epochs):\n",
    "    history = model.fit(\n",
    "        train_gen, epochs=epochs, validation_data=test_gen, verbose=0, callbacks=[es],\n",
    "    )\n",
    "    # calculate performance on the test data and return along with history\n",
    "    test_metrics = model.evaluate(test_gen, verbose=0)\n",
    "    test_acc = test_metrics[model.metrics_names.index(\"acc\")]\n",
    "\n",
    "    return history, test_acc"
   ]
  },
  {
   "cell_type": "code",
   "execution_count": 9,
   "id": "47579af6",
   "metadata": {},
   "outputs": [],
   "source": [
    "def get_generators(train_index, test_index, graph_labels, batch_size):\n",
    "    train_gen = generator.flow(\n",
    "        train_index, targets=graph_labels.iloc[train_index].values, batch_size=batch_size\n",
    "    )\n",
    "    test_gen = generator.flow(\n",
    "        test_index, targets=graph_labels.iloc[test_index].values, batch_size=batch_size\n",
    "    )\n",
    "\n",
    "    return train_gen, test_gen"
   ]
  },
  {
   "cell_type": "code",
   "execution_count": 10,
   "id": "62b4155f",
   "metadata": {},
   "outputs": [
    {
     "name": "stdout",
     "output_type": "stream",
     "text": [
      "Training and evaluating on fold 1 out of 10...\n"
     ]
    },
    {
     "name": "stderr",
     "output_type": "stream",
     "text": [
      "2023-03-20 13:25:23.440513: W tensorflow/tsl/platform/profile_utils/cpu_utils.cc:128] Failed to get CPU frequency: 0 Hz\n"
     ]
    },
    {
     "name": "stdout",
     "output_type": "stream",
     "text": [
      "Training and evaluating on fold 2 out of 10...\n",
      "Training and evaluating on fold 3 out of 10...\n",
      "Training and evaluating on fold 4 out of 10...\n",
      "Training and evaluating on fold 5 out of 10...\n",
      "Training and evaluating on fold 6 out of 10...\n",
      "Training and evaluating on fold 7 out of 10...\n",
      "Training and evaluating on fold 8 out of 10...\n",
      "Training and evaluating on fold 9 out of 10...\n",
      "Training and evaluating on fold 10 out of 10...\n"
     ]
    }
   ],
   "source": [
    "test_accs = []\n",
    "\n",
    "stratified_folds = model_selection.RepeatedStratifiedKFold(\n",
    "    n_splits=folds, n_repeats=n_repeats\n",
    ").split(graph_labels, graph_labels)\n",
    "\n",
    "for i, (train_index, test_index) in enumerate(stratified_folds):\n",
    "    print(f\"Training and evaluating on fold {i+1} out of {folds * n_repeats}...\")\n",
    "    train_gen, test_gen = get_generators(\n",
    "        train_index, test_index, graph_labels, batch_size=30\n",
    "    )\n",
    "\n",
    "    model_1 = create_graph_classification_model(generator)\n",
    "\n",
    "    history, acc = train_fold(model_1, train_gen, test_gen, es, epochs)\n",
    "\n",
    "    test_accs.append(acc)"
   ]
  },
  {
   "cell_type": "code",
   "execution_count": 11,
   "id": "6f45b21b",
   "metadata": {},
   "outputs": [
    {
     "name": "stdout",
     "output_type": "stream",
     "text": [
      "Accuracy over all folds mean: 1e+02% and std: 0.0%\n"
     ]
    }
   ],
   "source": [
    "print(\n",
    "    f\"Accuracy over all folds mean: {np.mean(test_accs)*100:.3}% and std: {np.std(test_accs)*100:.2}%\"\n",
    ")\n"
   ]
  },
  {
   "cell_type": "code",
   "execution_count": 12,
   "id": "f02180f7",
   "metadata": {},
   "outputs": [
    {
     "data": {
      "text/plain": [
       "Text(0, 0.5, 'Count')"
      ]
     },
     "execution_count": 12,
     "metadata": {},
     "output_type": "execute_result"
    },
    {
     "data": {
      "image/png": "[encoded data removed]",
      "text/plain": [
       "<Figure size 800x600 with 1 Axes>"
      ]
     },
     "metadata": {},
     "output_type": "display_data"
    }
   ],
   "source": [
    "plt.figure(figsize=(8, 6))\n",
    "plt.hist(test_accs)\n",
    "plt.xlabel(\"Accuracy\")\n",
    "plt.ylabel(\"Count\")"
   ]
  },
  {
   "cell_type": "markdown",
   "id": "640c889b",
   "metadata": {},
   "source": [
    "# DCGNN DCGNN DCGNN"
   ]
  },
  {
   "cell_type": "code",
   "execution_count": 13,
   "id": "a67b998f",
   "metadata": {},
   "outputs": [],
   "source": [
    "generator = PaddedGraphGenerator(graphs=graphs) #It uses same generator as above"
   ]
  },
  {
   "cell_type": "code",
   "execution_count": 14,
   "id": "69b3afa7",
   "metadata": {},
   "outputs": [
    {
     "name": "stdout",
     "output_type": "stream",
     "text": [
      "WARNING:tensorflow:From /Users/vihaan/miniforge3/envs/torch-gpu/lib/python3.8/site-packages/tensorflow/python/autograph/pyct/static_analysis/liveness.py:83: Analyzer.lamba_check (from tensorflow.python.autograph.pyct.static_analysis.liveness) is deprecated and will be removed after 2023-09-23.\n",
      "Instructions for updating:\n",
      "Lambda fuctions will be no more assumed to be used in the statement where they are used, or at least in the same block. https://github.com/tensorflow/tensorflow/issues/56089\n",
      "WARNING:tensorflow:From /Users/vihaan/miniforge3/envs/torch-gpu/lib/python3.8/site-packages/tensorflow/python/util/deprecation.py:629: calling map_fn_v2 (from tensorflow.python.ops.map_fn) with dtype is deprecated and will be removed in a future version.\n",
      "Instructions for updating:\n",
      "Use fn_output_signature instead\n"
     ]
    }
   ],
   "source": [
    "# DCGNN GCN layers\n",
    "\n",
    "k = 35  # the number of rows for the output tensor\n",
    "layer_sizes = [32, 32, 32, 1]\n",
    "\n",
    "dgcnn_model = DeepGraphCNN(\n",
    "    layer_sizes=layer_sizes,\n",
    "    activations=[\"tanh\", \"tanh\", \"tanh\", \"tanh\"],\n",
    "    k=k,\n",
    "    bias=False,\n",
    "    generator=generator,\n",
    ")\n",
    "x_inp, x_out = dgcnn_model.in_out_tensors()"
   ]
  },
  {
   "cell_type": "code",
   "execution_count": 15,
   "id": "d1d2b7ae",
   "metadata": {},
   "outputs": [],
   "source": [
    "x_out = Conv1D(filters=16, kernel_size=sum(layer_sizes), strides=sum(layer_sizes))(x_out)\n",
    "x_out = MaxPool1D(pool_size=2)(x_out)\n",
    "\n",
    "x_out = Conv1D(filters=32, kernel_size=5, strides=1)(x_out)\n",
    "\n",
    "x_out = Flatten()(x_out)\n",
    "\n",
    "x_out = Dense(units=128, activation=\"relu\")(x_out)\n",
    "x_out = Dropout(rate=0.5)(x_out)\n",
    "\n",
    "predictions = Dense(units=1, activation=\"sigmoid\")(x_out)"
   ]
  },
  {
   "cell_type": "code",
   "execution_count": 16,
   "id": "b469b0f6",
   "metadata": {},
   "outputs": [
    {
     "name": "stderr",
     "output_type": "stream",
     "text": [
      "WARNING:absl:`lr` is deprecated, please use `learning_rate` instead, or use the legacy optimizer, e.g.,tf.keras.optimizers.legacy.Adam.\n"
     ]
    }
   ],
   "source": [
    "model_2 = Model(inputs=x_inp, outputs=predictions)\n",
    "\n",
    "model_2.compile(\n",
    "    optimizer=Adam(lr=0.0001), loss=binary_crossentropy, metrics=[\"acc\"],\n",
    ")"
   ]
  },
  {
   "cell_type": "markdown",
   "id": "3ad18700",
   "metadata": {},
   "source": [
    "Splitting the graphs as train and test below"
   ]
  },
  {
   "cell_type": "code",
   "execution_count": 17,
   "id": "d602c5b7",
   "metadata": {},
   "outputs": [],
   "source": [
    "train_graphs, test_graphs = model_selection.train_test_split(\n",
    "    graph_labels, train_size=0.9, test_size=None, stratify=graph_labels,\n",
    ")"
   ]
  },
  {
   "cell_type": "code",
   "execution_count": 18,
   "id": "c3f4d13b",
   "metadata": {},
   "outputs": [],
   "source": [
    "\n",
    "gen = PaddedGraphGenerator(graphs=graphs)\n",
    "\n",
    "train_gen = gen.flow(\n",
    "    list(train_graphs.index - 1),\n",
    "    targets=train_graphs.values,\n",
    "    batch_size=50,\n",
    "    symmetric_normalization=False,\n",
    ")\n",
    "\n",
    "test_gen = gen.flow(\n",
    "    list(test_graphs.index - 1),\n",
    "    targets=test_graphs.values,\n",
    "    batch_size=1,\n",
    "    symmetric_normalization=False,\n",
    ")"
   ]
  },
  {
   "cell_type": "code",
   "execution_count": 19,
   "id": "9b267ded",
   "metadata": {},
   "outputs": [],
   "source": [
    "epochs = 100"
   ]
  },
  {
   "cell_type": "code",
   "execution_count": 20,
   "id": "d8215906",
   "metadata": {},
   "outputs": [
    {
     "name": "stdout",
     "output_type": "stream",
     "text": [
      "Epoch 1/100\n",
      "1/1 [==============================] - 1s 760ms/step - loss: 0.6821 - acc: 0.3333 - val_loss: 0.5950 - val_acc: 1.0000\n",
      "Epoch 2/100\n",
      "1/1 [==============================] - 0s 22ms/step - loss: 0.5792 - acc: 0.6667 - val_loss: 0.5029 - val_acc: 1.0000\n",
      "Epoch 3/100\n",
      "1/1 [==============================] - 0s 21ms/step - loss: 0.5654 - acc: 1.0000 - val_loss: 0.4029 - val_acc: 1.0000\n",
      "Epoch 4/100\n",
      "1/1 [==============================] - 0s 22ms/step - loss: 0.4942 - acc: 1.0000 - val_loss: 0.2938 - val_acc: 1.0000\n",
      "Epoch 5/100\n",
      "1/1 [==============================] - 0s 20ms/step - loss: 0.3440 - acc: 1.0000 - val_loss: 0.2123 - val_acc: 1.0000\n",
      "Epoch 6/100\n",
      "1/1 [==============================] - 0s 21ms/step - loss: 0.3134 - acc: 1.0000 - val_loss: 0.1258 - val_acc: 1.0000\n",
      "Epoch 7/100\n",
      "1/1 [==============================] - 0s 21ms/step - loss: 0.2219 - acc: 1.0000 - val_loss: 0.0699 - val_acc: 1.0000\n",
      "Epoch 8/100\n",
      "1/1 [==============================] - 0s 20ms/step - loss: 0.1545 - acc: 1.0000 - val_loss: 0.0349 - val_acc: 1.0000\n",
      "Epoch 9/100\n",
      "1/1 [==============================] - 0s 21ms/step - loss: 0.1242 - acc: 1.0000 - val_loss: 0.0154 - val_acc: 1.0000\n",
      "Epoch 10/100\n",
      "1/1 [==============================] - 0s 21ms/step - loss: 0.1280 - acc: 1.0000 - val_loss: 0.0061 - val_acc: 1.0000\n",
      "Epoch 11/100\n",
      "1/1 [==============================] - 0s 22ms/step - loss: 0.0966 - acc: 1.0000 - val_loss: 0.0024 - val_acc: 1.0000\n",
      "Epoch 12/100\n",
      "1/1 [==============================] - 0s 21ms/step - loss: 0.0645 - acc: 1.0000 - val_loss: 9.2548e-04 - val_acc: 1.0000\n",
      "Epoch 13/100\n",
      "1/1 [==============================] - 0s 22ms/step - loss: 0.0553 - acc: 1.0000 - val_loss: 3.3368e-04 - val_acc: 1.0000\n",
      "Epoch 14/100\n",
      "1/1 [==============================] - 0s 22ms/step - loss: 0.0250 - acc: 1.0000 - val_loss: 1.1816e-04 - val_acc: 1.0000\n",
      "Epoch 15/100\n",
      "1/1 [==============================] - 0s 22ms/step - loss: 0.0454 - acc: 1.0000 - val_loss: 4.1804e-05 - val_acc: 1.0000\n",
      "Epoch 16/100\n",
      "1/1 [==============================] - 0s 21ms/step - loss: 0.0180 - acc: 1.0000 - val_loss: 1.3766e-05 - val_acc: 1.0000\n",
      "Epoch 17/100\n",
      "1/1 [==============================] - 0s 22ms/step - loss: 0.0171 - acc: 1.0000 - val_loss: 4.3602e-06 - val_acc: 1.0000\n",
      "Epoch 18/100\n",
      "1/1 [==============================] - 0s 22ms/step - loss: 0.0226 - acc: 1.0000 - val_loss: 1.3680e-06 - val_acc: 1.0000\n",
      "Epoch 19/100\n",
      "1/1 [==============================] - 0s 21ms/step - loss: 0.0090 - acc: 1.0000 - val_loss: 4.5845e-07 - val_acc: 1.0000\n",
      "Epoch 20/100\n",
      "1/1 [==============================] - 0s 21ms/step - loss: 0.0036 - acc: 1.0000 - val_loss: 1.5266e-07 - val_acc: 1.0000\n",
      "Epoch 21/100\n",
      "1/1 [==============================] - 0s 21ms/step - loss: 0.0069 - acc: 1.0000 - val_loss: 5.2290e-08 - val_acc: 1.0000\n",
      "Epoch 22/100\n",
      "1/1 [==============================] - 0s 22ms/step - loss: 0.0081 - acc: 1.0000 - val_loss: 1.7652e-08 - val_acc: 1.0000\n",
      "Epoch 23/100\n",
      "1/1 [==============================] - 0s 21ms/step - loss: 0.0013 - acc: 1.0000 - val_loss: 6.2168e-09 - val_acc: 1.0000\n",
      "Epoch 24/100\n",
      "1/1 [==============================] - 0s 22ms/step - loss: 0.0020 - acc: 1.0000 - val_loss: 2.2561e-09 - val_acc: 1.0000\n",
      "Epoch 25/100\n",
      "1/1 [==============================] - 0s 21ms/step - loss: 6.8928e-04 - acc: 1.0000 - val_loss: 8.6216e-10 - val_acc: 1.0000\n",
      "Epoch 26/100\n",
      "1/1 [==============================] - 0s 21ms/step - loss: 3.3349e-04 - acc: 1.0000 - val_loss: 3.4537e-10 - val_acc: 1.0000\n",
      "Epoch 27/100\n",
      "1/1 [==============================] - 0s 21ms/step - loss: 9.2574e-04 - acc: 1.0000 - val_loss: 1.4547e-10 - val_acc: 1.0000\n",
      "Epoch 28/100\n",
      "1/1 [==============================] - 0s 21ms/step - loss: 0.0028 - acc: 1.0000 - val_loss: 6.2357e-11 - val_acc: 1.0000\n",
      "Epoch 29/100\n",
      "1/1 [==============================] - 0s 21ms/step - loss: 8.0463e-04 - acc: 1.0000 - val_loss: 2.7659e-11 - val_acc: 1.0000\n",
      "Epoch 30/100\n",
      "1/1 [==============================] - 0s 21ms/step - loss: 9.8714e-04 - acc: 1.0000 - val_loss: 1.3134e-11 - val_acc: 1.0000\n",
      "Epoch 31/100\n",
      "1/1 [==============================] - 0s 22ms/step - loss: 4.9278e-04 - acc: 1.0000 - val_loss: 6.4881e-12 - val_acc: 1.0000\n",
      "Epoch 32/100\n",
      "1/1 [==============================] - 0s 20ms/step - loss: 3.1018e-04 - acc: 1.0000 - val_loss: 3.3555e-12 - val_acc: 1.0000\n",
      "Epoch 33/100\n",
      "1/1 [==============================] - 0s 20ms/step - loss: 3.5337e-04 - acc: 1.0000 - val_loss: 1.8091e-12 - val_acc: 1.0000\n",
      "Epoch 34/100\n",
      "1/1 [==============================] - 0s 22ms/step - loss: 1.3586e-04 - acc: 1.0000 - val_loss: 1.0209e-12 - val_acc: 1.0000\n",
      "Epoch 35/100\n",
      "1/1 [==============================] - 0s 22ms/step - loss: 4.2900e-04 - acc: 1.0000 - val_loss: 6.0811e-13 - val_acc: 1.0000\n",
      "Epoch 36/100\n",
      "1/1 [==============================] - 0s 19ms/step - loss: 2.8103e-05 - acc: 1.0000 - val_loss: 3.7068e-13 - val_acc: 1.0000\n",
      "Epoch 37/100\n",
      "1/1 [==============================] - 0s 21ms/step - loss: 6.4800e-05 - acc: 1.0000 - val_loss: 2.3445e-13 - val_acc: 1.0000\n",
      "Epoch 38/100\n",
      "1/1 [==============================] - 0s 20ms/step - loss: 9.2274e-05 - acc: 1.0000 - val_loss: 1.5341e-13 - val_acc: 1.0000\n",
      "Epoch 39/100\n",
      "1/1 [==============================] - 0s 20ms/step - loss: 2.3372e-05 - acc: 1.0000 - val_loss: 1.0382e-13 - val_acc: 1.0000\n",
      "Epoch 40/100\n",
      "1/1 [==============================] - 0s 20ms/step - loss: 1.4035e-04 - acc: 1.0000 - val_loss: 7.2349e-14 - val_acc: 1.0000\n",
      "Epoch 41/100\n",
      "1/1 [==============================] - 0s 20ms/step - loss: 1.9052e-06 - acc: 1.0000 - val_loss: 5.1934e-14 - val_acc: 1.0000\n",
      "Epoch 42/100\n",
      "1/1 [==============================] - 0s 21ms/step - loss: 6.5202e-06 - acc: 1.0000 - val_loss: 3.8314e-14 - val_acc: 1.0000\n",
      "Epoch 43/100\n",
      "1/1 [==============================] - 0s 19ms/step - loss: 1.4621e-04 - acc: 1.0000 - val_loss: 2.8916e-14 - val_acc: 1.0000\n",
      "Epoch 44/100\n",
      "1/1 [==============================] - 0s 20ms/step - loss: 2.5391e-05 - acc: 1.0000 - val_loss: 2.2336e-14 - val_acc: 1.0000\n",
      "Epoch 45/100\n",
      "1/1 [==============================] - 0s 20ms/step - loss: 2.4613e-05 - acc: 1.0000 - val_loss: 1.7627e-14 - val_acc: 1.0000\n",
      "Epoch 46/100\n",
      "1/1 [==============================] - 0s 20ms/step - loss: 4.7744e-05 - acc: 1.0000 - val_loss: 1.4184e-14 - val_acc: 1.0000\n",
      "Epoch 47/100\n",
      "1/1 [==============================] - 0s 21ms/step - loss: 7.4644e-06 - acc: 1.0000 - val_loss: 1.1627e-14 - val_acc: 1.0000\n",
      "Epoch 48/100\n",
      "1/1 [==============================] - 0s 20ms/step - loss: 1.3046e-04 - acc: 1.0000 - val_loss: 9.6770e-15 - val_acc: 1.0000\n",
      "Epoch 49/100\n",
      "1/1 [==============================] - 0s 20ms/step - loss: 3.0086e-05 - acc: 1.0000 - val_loss: 8.1773e-15 - val_acc: 1.0000\n",
      "Epoch 50/100\n",
      "1/1 [==============================] - 0s 22ms/step - loss: 8.7921e-06 - acc: 1.0000 - val_loss: 7.0100e-15 - val_acc: 1.0000\n",
      "Epoch 51/100\n",
      "1/1 [==============================] - 0s 20ms/step - loss: 1.0474e-04 - acc: 1.0000 - val_loss: 6.2901e-15 - val_acc: 1.0000\n",
      "Epoch 52/100\n",
      "1/1 [==============================] - 0s 19ms/step - loss: 2.9693e-06 - acc: 1.0000 - val_loss: 5.5213e-15 - val_acc: 1.0000\n",
      "Epoch 53/100\n",
      "1/1 [==============================] - 0s 21ms/step - loss: 9.9887e-07 - acc: 1.0000 - val_loss: 4.9027e-15 - val_acc: 1.0000\n",
      "Epoch 54/100\n",
      "1/1 [==============================] - 0s 20ms/step - loss: 2.6935e-05 - acc: 1.0000 - val_loss: 4.3966e-15 - val_acc: 1.0000\n",
      "Epoch 55/100\n",
      "1/1 [==============================] - 0s 20ms/step - loss: 8.3025e-05 - acc: 1.0000 - val_loss: 3.9685e-15 - val_acc: 1.0000\n",
      "Epoch 56/100\n",
      "1/1 [==============================] - 0s 19ms/step - loss: 3.3187e-05 - acc: 1.0000 - val_loss: 3.6105e-15 - val_acc: 1.0000\n",
      "Epoch 57/100\n",
      "1/1 [==============================] - 0s 20ms/step - loss: 1.2034e-04 - acc: 1.0000 - val_loss: 3.2991e-15 - val_acc: 1.0000\n",
      "Epoch 58/100\n",
      "1/1 [==============================] - 0s 20ms/step - loss: 2.3481e-06 - acc: 1.0000 - val_loss: 3.0387e-15 - val_acc: 1.0000\n",
      "Epoch 59/100\n",
      "1/1 [==============================] - 0s 19ms/step - loss: 2.6681e-06 - acc: 1.0000 - val_loss: 2.8196e-15 - val_acc: 1.0000\n",
      "Epoch 60/100\n",
      "1/1 [==============================] - 0s 21ms/step - loss: 4.5992e-05 - acc: 1.0000 - val_loss: 2.6290e-15 - val_acc: 1.0000\n",
      "Epoch 61/100\n"
     ]
    },
    {
     "name": "stdout",
     "output_type": "stream",
     "text": [
      "1/1 [==============================] - 0s 21ms/step - loss: 1.5807e-06 - acc: 1.0000 - val_loss: 2.4667e-15 - val_acc: 1.0000\n",
      "Epoch 62/100\n",
      "1/1 [==============================] - 0s 20ms/step - loss: 1.0032e-06 - acc: 1.0000 - val_loss: 2.3278e-15 - val_acc: 1.0000\n",
      "Epoch 63/100\n",
      "1/1 [==============================] - 0s 20ms/step - loss: 3.2792e-06 - acc: 1.0000 - val_loss: 2.2079e-15 - val_acc: 1.0000\n",
      "Epoch 64/100\n",
      "1/1 [==============================] - 0s 21ms/step - loss: 2.5576e-06 - acc: 1.0000 - val_loss: 2.1043e-15 - val_acc: 1.0000\n",
      "Epoch 65/100\n",
      "1/1 [==============================] - 0s 21ms/step - loss: 1.5060e-05 - acc: 1.0000 - val_loss: 2.0133e-15 - val_acc: 1.0000\n",
      "Epoch 66/100\n",
      "1/1 [==============================] - 0s 20ms/step - loss: 9.2860e-06 - acc: 1.0000 - val_loss: 1.9333e-15 - val_acc: 1.0000\n",
      "Epoch 67/100\n",
      "1/1 [==============================] - 0s 20ms/step - loss: 1.3958e-06 - acc: 1.0000 - val_loss: 1.8632e-15 - val_acc: 1.0000\n",
      "Epoch 68/100\n",
      "1/1 [==============================] - 0s 21ms/step - loss: 1.9542e-05 - acc: 1.0000 - val_loss: 1.8002e-15 - val_acc: 1.0000\n",
      "Epoch 69/100\n",
      "1/1 [==============================] - 0s 20ms/step - loss: 5.3480e-06 - acc: 1.0000 - val_loss: 1.7444e-15 - val_acc: 1.0000\n",
      "Epoch 70/100\n",
      "1/1 [==============================] - 0s 20ms/step - loss: 2.3829e-05 - acc: 1.0000 - val_loss: 1.6932e-15 - val_acc: 1.0000\n",
      "Epoch 71/100\n",
      "1/1 [==============================] - 0s 21ms/step - loss: 3.0229e-04 - acc: 1.0000 - val_loss: 1.6294e-15 - val_acc: 1.0000\n",
      "Epoch 72/100\n",
      "1/1 [==============================] - 0s 21ms/step - loss: 1.1509e-04 - acc: 1.0000 - val_loss: 1.5651e-15 - val_acc: 1.0000\n",
      "Epoch 73/100\n",
      "1/1 [==============================] - 0s 21ms/step - loss: 5.6480e-05 - acc: 1.0000 - val_loss: 1.5063e-15 - val_acc: 1.0000\n",
      "Epoch 74/100\n",
      "1/1 [==============================] - 0s 20ms/step - loss: 5.0526e-06 - acc: 1.0000 - val_loss: 1.4546e-15 - val_acc: 1.0000\n",
      "Epoch 75/100\n",
      "1/1 [==============================] - 0s 21ms/step - loss: 1.2220e-05 - acc: 1.0000 - val_loss: 1.4085e-15 - val_acc: 1.0000\n",
      "Epoch 76/100\n",
      "1/1 [==============================] - 0s 20ms/step - loss: 6.8723e-05 - acc: 1.0000 - val_loss: 1.3656e-15 - val_acc: 1.0000\n",
      "Epoch 77/100\n",
      "1/1 [==============================] - 0s 22ms/step - loss: 7.0659e-06 - acc: 1.0000 - val_loss: 1.3273e-15 - val_acc: 1.0000\n",
      "Epoch 78/100\n",
      "1/1 [==============================] - 0s 21ms/step - loss: 3.4427e-06 - acc: 1.0000 - val_loss: 1.2932e-15 - val_acc: 1.0000\n",
      "Epoch 79/100\n",
      "1/1 [==============================] - 0s 20ms/step - loss: 8.9337e-05 - acc: 1.0000 - val_loss: 1.2603e-15 - val_acc: 1.0000\n",
      "Epoch 80/100\n",
      "1/1 [==============================] - 0s 20ms/step - loss: 2.7500e-05 - acc: 1.0000 - val_loss: 1.2299e-15 - val_acc: 1.0000\n",
      "Epoch 81/100\n",
      "1/1 [==============================] - 0s 20ms/step - loss: 5.3706e-07 - acc: 1.0000 - val_loss: 1.2029e-15 - val_acc: 1.0000\n",
      "Epoch 82/100\n",
      "1/1 [==============================] - 0s 21ms/step - loss: 1.8787e-05 - acc: 1.0000 - val_loss: 1.1777e-15 - val_acc: 1.0000\n",
      "Epoch 83/100\n",
      "1/1 [==============================] - 0s 20ms/step - loss: 1.1519e-05 - acc: 1.0000 - val_loss: 1.1547e-15 - val_acc: 1.0000\n",
      "Epoch 84/100\n",
      "1/1 [==============================] - 0s 21ms/step - loss: 4.3739e-06 - acc: 1.0000 - val_loss: 1.1339e-15 - val_acc: 1.0000\n",
      "Epoch 85/100\n",
      "1/1 [==============================] - 0s 20ms/step - loss: 2.0869e-05 - acc: 1.0000 - val_loss: 1.1145e-15 - val_acc: 1.0000\n",
      "Epoch 86/100\n",
      "1/1 [==============================] - 0s 20ms/step - loss: 7.4611e-06 - acc: 1.0000 - val_loss: 1.0970e-15 - val_acc: 1.0000\n",
      "Epoch 87/100\n",
      "1/1 [==============================] - 0s 20ms/step - loss: 4.7995e-05 - acc: 1.0000 - val_loss: 1.0784e-15 - val_acc: 1.0000\n",
      "Epoch 88/100\n",
      "1/1 [==============================] - 0s 20ms/step - loss: 4.4623e-05 - acc: 1.0000 - val_loss: 1.0603e-15 - val_acc: 1.0000\n",
      "Epoch 89/100\n",
      "1/1 [==============================] - 0s 21ms/step - loss: 1.7565e-05 - acc: 1.0000 - val_loss: 1.0435e-15 - val_acc: 1.0000\n",
      "Epoch 90/100\n",
      "1/1 [==============================] - 0s 21ms/step - loss: 3.8424e-05 - acc: 1.0000 - val_loss: 1.0272e-15 - val_acc: 1.0000\n",
      "Epoch 91/100\n",
      "1/1 [==============================] - 0s 19ms/step - loss: 2.8976e-05 - acc: 1.0000 - val_loss: 1.0117e-15 - val_acc: 1.0000\n",
      "Epoch 92/100\n",
      "1/1 [==============================] - 0s 20ms/step - loss: 2.1215e-05 - acc: 1.0000 - val_loss: 9.9726e-16 - val_acc: 1.0000\n",
      "Epoch 93/100\n",
      "1/1 [==============================] - 0s 20ms/step - loss: 1.9837e-05 - acc: 1.0000 - val_loss: 9.8360e-16 - val_acc: 1.0000\n",
      "Epoch 94/100\n",
      "1/1 [==============================] - 0s 21ms/step - loss: 1.9747e-05 - acc: 1.0000 - val_loss: 9.7031e-16 - val_acc: 1.0000\n",
      "Epoch 95/100\n",
      "1/1 [==============================] - 0s 21ms/step - loss: 1.2719e-05 - acc: 1.0000 - val_loss: 9.5804e-16 - val_acc: 1.0000\n",
      "Epoch 96/100\n",
      "1/1 [==============================] - 0s 21ms/step - loss: 1.6697e-04 - acc: 1.0000 - val_loss: 9.4268e-16 - val_acc: 1.0000\n",
      "Epoch 97/100\n",
      "1/1 [==============================] - 0s 20ms/step - loss: 1.1089e-05 - acc: 1.0000 - val_loss: 9.2835e-16 - val_acc: 1.0000\n",
      "Epoch 98/100\n",
      "1/1 [==============================] - 0s 20ms/step - loss: 6.1911e-07 - acc: 1.0000 - val_loss: 9.1553e-16 - val_acc: 1.0000\n",
      "Epoch 99/100\n",
      "1/1 [==============================] - 0s 20ms/step - loss: 8.8311e-05 - acc: 1.0000 - val_loss: 9.0167e-16 - val_acc: 1.0000\n",
      "Epoch 100/100\n",
      "1/1 [==============================] - 0s 20ms/step - loss: 5.0565e-07 - acc: 1.0000 - val_loss: 8.8927e-16 - val_acc: 1.0000\n"
     ]
    }
   ],
   "source": [
    "history = model_2.fit(\n",
    "    train_gen, epochs=epochs, verbose=1, validation_data=test_gen, shuffle=True,\n",
    ")"
   ]
  },
  {
   "cell_type": "code",
   "execution_count": 21,
   "id": "040eded0",
   "metadata": {},
   "outputs": [
    {
     "data": {
      "image/png": "[encoded data removed]",
      "text/plain": [
       "<Figure size 700x800 with 2 Axes>"
      ]
     },
     "metadata": {},
     "output_type": "display_data"
    }
   ],
   "source": [
    "sg.utils.plot_history(history)"
   ]
  },
  {
   "cell_type": "code",
   "execution_count": 22,
   "id": "8ac2ac95",
   "metadata": {
    "scrolled": true
   },
   "outputs": [
    {
     "name": "stdout",
     "output_type": "stream",
     "text": [
      "1/1 [==============================] - 0s 15ms/step - loss: 8.8927e-16 - acc: 1.0000\n",
      "\n",
      "Test Set Metrics:\n",
      "\tloss: 0.0000\n",
      "\tacc: 1.0000\n"
     ]
    }
   ],
   "source": [
    "test_metrics = model_2.evaluate(test_gen)\n",
    "print(\"\\nTest Set Metrics:\")\n",
    "for name, val in zip(model_2.metrics_names, test_metrics):\n",
    "    print(\"\\t{}: {:0.4f}\".format(name, val))"
   ]
  },
  {
   "cell_type": "markdown",
   "id": "75f6e469",
   "metadata": {},
   "source": [
    "# Generating New Labels for new graphs with pre-trained models\n"
   ]
  },
  {
   "cell_type": "code",
   "execution_count": 83,
   "id": "9a73bcd9",
   "metadata": {},
   "outputs": [
    {
     "name": "stdout",
     "output_type": "stream",
     "text": [
      "4/4 [==============================] - 0s 999us/step\n",
      "[<stellargraph.core.graph.StellarGraph object at 0x288fb2f10>, <stellargraph.core.graph.StellarGraph object at 0x1110d8a00>, <stellargraph.core.graph.StellarGraph object at 0x288fb2fd0>, <stellargraph.core.graph.StellarGraph object at 0x1110d8850>]\n",
      "0    0\n",
      "1    0\n",
      "2    0\n",
      "3    0\n",
      "dtype: category\n",
      "Categories (2, int64): [0, 1]\n"
     ]
    }
   ],
   "source": [
    "def generateNewData(model,graphs,LOW_THRESHOLD = 0.2,HIGH_THRESHOLD = 0.8):\n",
    "    '''\n",
    "    Creates labels for unlabeled graphs and returns new training data\n",
    "    \n",
    "    Inputs:\n",
    "    -------\n",
    "    \n",
    "    model : Trained tf model that is used to predict/generate labels\n",
    "    graphs: Graphs for which we generate new labels\n",
    "    \n",
    "    Outputs:\n",
    "    --------\n",
    "    new_graphs: List of graphs that the model can classify with confidence\n",
    "    graph_labels: Labels for the above graphs\n",
    "    \n",
    "    \n",
    "    '''\n",
    "    \n",
    "    new_graphs = []\n",
    "    new_labels = []\n",
    "    \n",
    "    new_gen = PaddedGraphGenerator(graphs=graphs)\n",
    "    \n",
    "    create_gen = new_gen.flow(graphs,\n",
    "    batch_size=1,\n",
    "    symmetric_normalization=False,)\n",
    "    \n",
    "    pred_labels = model_1.predict(create_gen)\n",
    "    \n",
    "    for i in range(len(graphs)):\n",
    "        pred_val = pred_labels[i]\n",
    "    \n",
    "        if pred_val < LOW_THRESHOLD:\n",
    "            new_graphs.append(graphs[i])\n",
    "            new_labels.append(0)\n",
    "        \n",
    "        elif pred_val > HIGH_THRESHOLD:\n",
    "            new_graphs.append(graphs[i])\n",
    "            new_labels.append(1)\n",
    "        \n",
    "    # Convert the list to a Categorical object\n",
    "    cat_label = pd.Categorical(new_labels, categories=[0,1])\n",
    "\n",
    "    # Create a Pandas Series object from the Categorical object\n",
    "    graph_labels = pd.Series(cat_label)\n",
    "    \n",
    "    \n",
    "    return new_graphs,graph_labels\n",
    "    \n",
    "    \n",
    "new_gs,new_lbls = generateNewData(model_2,graphs)\n",
    "print(new_gs)\n",
    "print(new_lbls)"
   ]
  },
  {
   "cell_type": "code",
   "execution_count": 80,
   "id": "5af5a306",
   "metadata": {},
   "outputs": [],
   "source": [
    "#Appending new data to old\n",
    "def appendTwoDatasets(graphs_old,graph_labels_old,graphs_new,graph_labels_new):\n",
    "    '''\n",
    "    Takes in old graphs, labels and the new ones and appends them to return one dataset\n",
    "    \n",
    "    \n",
    "    Inputs:\n",
    "    -------\n",
    "    graphs_old: List of old graph objects\n",
    "    graph_labels_old: Pandas categorical series object of old labels\n",
    "    new ones are new of corresponding data\n",
    "    \n",
    "    Outputs:\n",
    "    --------\n",
    "    \n",
    "    '''\n",
    "    final_graphs = graphs_old + graphs_new\n",
    "    final_labels = pd.concat([graph_labels_old, graph_labels_new], ignore_index=True)\n",
    "    \n",
    "    return final_graphs,final_labels"
   ]
  },
  {
   "cell_type": "code",
   "execution_count": 82,
   "id": "2a7b682a",
   "metadata": {},
   "outputs": [
    {
     "name": "stdout",
     "output_type": "stream",
     "text": [
      "8\n",
      "8\n"
     ]
    }
   ],
   "source": [
    "temp1,temp2 = appendTwoDatasets(graphs,graph_labels,graphs,graph_labels)\n",
    "print(len(temp1))\n",
    "print(len(temp2))"
   ]
  },
  {
   "cell_type": "code",
   "execution_count": null,
   "id": "59bae72b",
   "metadata": {},
   "outputs": [],
   "source": [
    "def generateNewDataset(graphs_old,graphs_new,model,graphs_unlabeled,):"
   ]
  }
 ],
 "metadata": {
  "kernelspec": {
   "display_name": "Python 3 (ipykernel)",
   "language": "python",
   "name": "python3"
  },
  "language_info": {
   "codemirror_mode": {
    "name": "ipython",
    "version": 3
   },
   "file_extension": ".py",
   "mimetype": "text/x-python",
   "name": "python",
   "nbconvert_exporter": "python",
   "pygments_lexer": "ipython3",
   "version": "3.8.13"
  }
 },
 "nbformat": 4,
 "nbformat_minor": 5
}
